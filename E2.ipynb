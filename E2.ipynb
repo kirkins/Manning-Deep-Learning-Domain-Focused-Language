{
 "cells": [
  {
   "cell_type": "code",
   "execution_count": 25,
   "metadata": {},
   "outputs": [],
   "source": [
    "import pandas as pd\n",
    "df = pd.read_csv('clean_data.zip')"
   ]
  },
  {
   "cell_type": "code",
   "execution_count": null,
   "metadata": {},
   "outputs": [],
   "source": [
    "import nltk\n",
    "import matplotlib.pyplot as plt\n",
    "\n",
    "cumulative_list = []\n",
    "for label in df['cleanText']:\n",
    "    output = []\n",
    "    output = output + list(nltk.bigrams(label.split()))\n",
    "    \n",
    "    # collect all bigrams\n",
    "    cumulative_list = cumulative_list + output\n",
    "    \n",
    "    # only produce a graph if not empty\n",
    "    if not output:\n",
    "        continue\n",
    "    fd = nltk.FreqDist(filter(None,output))\n",
    "\n",
    "fd = nltk.FreqDist(filter(None,cumulative_list))\n",
    "fd.plot(10,cumulative=False,title='Bigrams')\n",
    "plt.show()"
   ]
  },
  {
   "cell_type": "code",
   "execution_count": null,
   "metadata": {},
   "outputs": [],
   "source": []
  },
  {
   "cell_type": "code",
   "execution_count": null,
   "metadata": {},
   "outputs": [],
   "source": []
  }
 ],
 "metadata": {
  "kernelspec": {
   "display_name": "Python 3",
   "language": "python",
   "name": "python3"
  },
  "language_info": {
   "codemirror_mode": {
    "name": "ipython",
    "version": 3
   },
   "file_extension": ".py",
   "mimetype": "text/x-python",
   "name": "python",
   "nbconvert_exporter": "python",
   "pygments_lexer": "ipython3",
   "version": "3.7.6"
  }
 },
 "nbformat": 4,
 "nbformat_minor": 4
}
